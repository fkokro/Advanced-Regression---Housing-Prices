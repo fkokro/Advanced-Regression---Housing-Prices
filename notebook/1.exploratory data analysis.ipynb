{
 "cells": [
  {
   "cell_type": "code",
   "execution_count": null,
   "metadata": {},
   "outputs": [],
   "source": [
    "import numpy as np\n"
   ]
  },
  {
   "cell_type": "code",
   "execution_count": null,
   "metadata": {},
   "outputs": [],
   "source": [
    "3. Data Checks"
   ]
  },
  {
   "cell_type": "markdown",
   "metadata": {},
   "source": [
    "### 3. Data Checks\n",
    "* Check missing values\n",
    "* Check duplicates\n",
    "* Check the number of unique vallues of each column\n",
    "* Check statistics of data set.\n",
    "* Check various categoeires present in the different categorical column"
   ]
  }
 ],
 "metadata": {
  "language_info": {
   "name": "python"
  }
 },
 "nbformat": 4,
 "nbformat_minor": 2
}
